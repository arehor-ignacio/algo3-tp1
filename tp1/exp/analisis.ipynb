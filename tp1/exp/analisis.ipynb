{
 "cells": [
  {
   "cell_type": "code",
   "execution_count": null,
   "id": "e65e2ac6",
   "metadata": {},
   "outputs": [],
   "source": [
    "import numpy as np\n",
    "import pandas as pd\n",
    "import seaborn as sns\n",
    "import os\n",
    "import matplotlib.pyplot as plt\n",
    "from typing import Callable"
   ]
  },
  {
   "cell_type": "markdown",
   "id": "c8cbbbd4",
   "metadata": {},
   "source": [
    "## Experimentos"
   ]
  },
  {
   "cell_type": "code",
   "execution_count": null,
   "id": "5d2abcb4",
   "metadata": {},
   "outputs": [],
   "source": [
    "sns.set_style(\"whitegrid\")\n",
    "df_resultados = pd.read_csv(\"resultados.csv\")\n",
    "\n",
    "directorio = 'img' \n",
    "try:\n",
    "    os.mkdir(directorio) \n",
    "except OSError as error:\n",
    "    pass\n",
    "    #print(error)"
   ]
  },
  {
   "cell_type": "code",
   "execution_count": null,
   "id": "44ba5e5e",
   "metadata": {},
   "outputs": [],
   "source": [
    "FIGSIZE = (10,5)\n",
    "\n",
    "def comp_plt(\n",
    "        df: pd.DataFrame,\n",
    "        alg: str,\n",
    "        func: Callable[[], float],\n",
    "        func_label: str,\n",
    "        dataset: str=None,\n",
    "    ):\n",
    "    \n",
    "    ## Obtenemos la constante multiplicativa usando CML\n",
    "    \n",
    "    b = np.array(df['tiempo']).reshape(-1, 1)\n",
    "    A = np.array([func(n) for n in df['n']]).reshape(-1, 1)\n",
    "    AtA = A.T @ A\n",
    "    Atb = A.T @ b\n",
    "\n",
    "    c = np.linalg.solve(AtA, Atb)\n",
    "\n",
    "    df['complejidad'] = func(df['n']) * c[0,0]\n",
    "\n",
    "    \n",
    "    plt.subplots(figsize=FIGSIZE)\n",
    "    \n",
    "    fig = sns.scatterplot(data=df, x='n', y='tiempo', hue='dataset')\n",
    "    \n",
    "    fig.set(xlabel='n', ylabel='tiempo (ms)');\n",
    "    if dataset is None:\n",
    "        fig.set_title(f'Tiempos de ejecución de {alg}')\n",
    "        plt.savefig(f\"img/{alg}_tiempos.svg\")\n",
    "    else:\n",
    "        fig.set_title(f'Tiempos de ejecución de {alg} en {dataset}')\n",
    "        plt.savefig(f\"img/{alg}_{dataset}_tiempos.svg\")\n",
    "\n",
    "    \n",
    "    fig = sns.lineplot(data=df, x='n', y='complejidad', color='orange')\n",
    "    fig.set(xlabel='n', ylabel='tiempo (ms)');\n",
    "    fig.legend(labels=[f'O({func_label})',alg]);\n",
    "    if dataset is None:\n",
    "        fig.set_title(f'Complejidad de {alg}')\n",
    "        plt.savefig(f\"img/{alg}.svg\")\n",
    "    else:\n",
    "        fig.set_title(f'Complejidad de {alg} en {dataset}')\n",
    "        plt.savefig(f\"img/{alg}_{dataset}.svg\")\n",
    "\n",
    "    \n",
    "\n",
    "def corr_plt(\n",
    "        df: pd.DataFrame,\n",
    "        alg:str,\n",
    "        dataset: str=None,\n",
    "    ):\n",
    "    \n",
    "    plt.figure(figsize=FIGSIZE)\n",
    "    \n",
    "    sns.lmplot(data=df, x='tiempo', y='complejidad', height=FIGSIZE[1], aspect=2);\n",
    "    fig = plt.gca()\n",
    "    fig.set(xlabel='tiempo (ms)', ylabel='complejidad');\n",
    "    if dataset is None:\n",
    "        fig.set_title(f'Correlación entre tiempos de ejecución y\\n complejidad teórica de {alg}')\n",
    "        plt.savefig(f\"img/{alg}_corr.svg\")\n",
    "    else:\n",
    "        fig.set_title(f'Correlación entre tiempos de ejecución y\\n complejidad teórica de {alg} en {dataset}')\n",
    "        plt.savefig(f\"img/{alg}_{dataset}_corr.svg\")\n",
    "\n",
    "\n",
    "    print(np.corrcoef(df['tiempo'], df['complejidad'])[0,1])"
   ]
  },
  {
   "cell_type": "markdown",
   "id": "3439a794",
   "metadata": {},
   "source": [
    "## Funciones de complejidad"
   ]
  },
  {
   "cell_type": "code",
   "execution_count": null,
   "id": "691f7b37",
   "metadata": {},
   "outputs": [],
   "source": [
    "def idt(x) -> float:\n",
    "    return x\n",
    "\n",
    "def exp(x) -> float:\n",
    "    return 2**x"
   ]
  },
  {
   "cell_type": "markdown",
   "id": "94c8395a",
   "metadata": {},
   "source": [
    "### Experimento 1: Complejidad fuerza bruta\n",
    "\n",
    "En este experimento vamos a ver la complejidad del algoritmo de fuerza bruta con el dataset _fuerza-bruta_. La hipotesis es que esta va a coincidir con $\\mathcal{O}(2^{n})$."
   ]
  },
  {
   "cell_type": "code",
   "execution_count": null,
   "id": "35b36012",
   "metadata": {},
   "outputs": [],
   "source": [
    "df = df_resultados[df_resultados[\"metodo\"] == \"BF\"].copy()\n",
    "\n",
    "comp_plt(df, \"FB\", exp, \"2^n\")\n",
    "corr_plt(df, \"FB\")"
   ]
  },
  {
   "cell_type": "markdown",
   "id": "0eaba985",
   "metadata": {},
   "source": [
    "## Experimento 2: Complejidad backtracking "
   ]
  },
  {
   "cell_type": "code",
   "execution_count": null,
   "id": "b3a7d5c1",
   "metadata": {},
   "outputs": [],
   "source": [
    "df = df_resultados[\n",
    "    (df_resultados['metodo'] == 'BT') &\n",
    "    (df_resultados['n'] <= 30) &\n",
    "    ((df_resultados['dataset'] == 'peor-caso-bt') |\n",
    "     (df_resultados['dataset'] == 'mejor-caso-bt'))].copy()\n",
    "\n",
    "plt.subplots(figsize=FIGSIZE)\n",
    "    \n",
    "fig = sns.scatterplot(data=df, x='n', y='tiempo', hue='dataset')\n",
    "\n",
    "fig.set(xlabel='n', ylabel='tiempo (ms)');\n",
    "fig.set_title(f'Tiempos de ejecución de BT')\n",
    "\n",
    "plt.savefig(f\"img/BT_tiempos_dos_datasets.svg\")"
   ]
  },
  {
   "cell_type": "markdown",
   "id": "6fa9a2d8",
   "metadata": {},
   "source": [
    "### Mejor caso (BT)"
   ]
  },
  {
   "cell_type": "code",
   "execution_count": null,
   "id": "73a6631f",
   "metadata": {},
   "outputs": [],
   "source": [
    "df = df_resultados[\n",
    "    (df_resultados['metodo'] == 'BT') &\n",
    "    (df_resultados['n'] <= 30) &\n",
    "    (df_resultados['dataset'] == 'mejor-caso-bt')].copy()\n",
    "\n",
    "comp_plt(df, 'BT', idt, \"n\", \"mejor-caso-bt\")\n",
    "corr_plt(df, 'BT', \"mejor-caso-bt\")"
   ]
  },
  {
   "cell_type": "markdown",
   "id": "3126ecbc",
   "metadata": {},
   "source": [
    "### Peor caso (BT)"
   ]
  },
  {
   "cell_type": "code",
   "execution_count": null,
   "id": "5062a9ad",
   "metadata": {},
   "outputs": [],
   "source": [
    "df = df_resultados[\n",
    "    (df_resultados['metodo'] == 'BT') &\n",
    "    (df_resultados['n'] <= 30) &\n",
    "    (df_resultados['dataset'] == 'peor-caso-bt')].copy()\n",
    "\n",
    "comp_plt(df, 'BT', exp, \"2^n\", \"peor-caso-bt\")\n",
    "corr_plt(df, 'BT', \"peor-caso-bt\")"
   ]
  },
  {
   "cell_type": "markdown",
   "id": "e15b973a",
   "metadata": {},
   "source": [
    "## Experimento 4: Complejidad PD"
   ]
  },
  {
   "cell_type": "code",
   "execution_count": null,
   "id": "d5b655a6",
   "metadata": {},
   "outputs": [],
   "source": [
    "df = df_resultados[\n",
    "    (df_resultados['metodo'] == 'DP') &\n",
    "    (df_resultados['dataset'] == 'muchos-productos')].copy()\n",
    "df['complejidad'] = df['n'] * df['R'] * 0.000019\n",
    "\n",
    "plt.subplots(figsize=FIGSIZE)\n",
    "fig = sns.scatterplot(data=df, x='n', y='tiempo')\n",
    "\n",
    "fig.set(xlabel='n', ylabel='tiempo (ms)');\n",
    "fig.set_title(f'Tiempos de ejecución de DP')\n",
    "\n",
    "plt.savefig(f\"img/PD_tiempos.svg\")\n",
    "\n",
    "fig = sns.lineplot(data=df, x='n', y='complejidad', color='orange')\n",
    "fig.set(xlabel='n', ylabel='tiempo (ms)');\n",
    "fig.legend(labels=[f'O(n * R)',\"DP\"]);\n",
    "fig.set_title(f'Complejidad de DP')\n",
    "plt.savefig(f\"img/PD.svg\")"
   ]
  },
  {
   "cell_type": "code",
   "execution_count": null,
   "id": "a99964b3",
   "metadata": {},
   "outputs": [],
   "source": [
    "df = df_resultados[\n",
    "    (df_resultados['metodo'] == 'DP') &\n",
    "    (df_resultados['dataset'] == 'muchos-productos')].copy()\n",
    "df['complejidad'] = df['n'] * df['R']\n",
    "corr_plt(df, \"DP\")"
   ]
  },
  {
   "source": [
    "### Experimento : Comparación Backtracking - Programación dinámica\n",
    "En este experimento queremos ver si existen instancias donde el método de backtracking, cuya complejidad teórica en el peór caso es de $O(2^{n})$, se comporta más eficientemente que el algoritmo de programación dinámica, cuya complejidad teórica en el peór caso es de $O(n \\cdot R)$. Para ello, veremos que sucede con los tiempos de ejecución de estos algoritmos en los dataset **alta-superposicion** y **sin-superposicion**."
   ],
   "cell_type": "markdown",
   "metadata": {}
  },
  {
   "cell_type": "code",
   "execution_count": null,
   "metadata": {},
   "outputs": [],
   "source": [
    "df = df_resultados[\n",
    "    ((df_resultados['metodo'] == 'BT') | (df_resultados['metodo'] == 'DP')) &\n",
    "    (df_resultados['dataset'] == 'alta-superposicion')\n",
    "]"
   ]
  },
  {
   "cell_type": "code",
   "execution_count": null,
   "metadata": {},
   "outputs": [],
   "source": [
    "plt.subplots(figsize=FIGSIZE)\n",
    "fig = sns.scatterplot(data=df, x='n', y='tiempo', hue='metodo')\n",
    "fig.set(xlabel='n', ylabel='tiempo (ms)');\n",
    "fig.set_title(f'Tiempos de ejecución de DP y BT')\n",
    "plt.savefig(f\"img/PD_BT_alta_tiempos.svg\")"
   ]
  },
  {
   "source": [
    "### - Dataset sin-superposicion "
   ],
   "cell_type": "markdown",
   "metadata": {}
  },
  {
   "cell_type": "code",
   "execution_count": null,
   "metadata": {},
   "outputs": [],
   "source": [
    "df = df_resultados[\n",
    "    ((df_resultados['metodo'] == 'BT') | (df_resultados['metodo'] == 'DP')) &\n",
    "    (df_resultados['dataset'] == 'sin-superposicion')\n",
    "]"
   ]
  },
  {
   "cell_type": "code",
   "execution_count": null,
   "metadata": {},
   "outputs": [],
   "source": [
    "plt.subplots(figsize=FIGSIZE)\n",
    "fig = sns.scatterplot(data=df, x='n', y='tiempo', hue='metodo')\n",
    "fig.set(xlabel='n', ylabel='tiempo (ms)');\n",
    "fig.set_title(f'Tiempos de ejecución de DP y BT')\n",
    "plt.savefig(f\"img/PD_BT_sin_tiempos.svg\")"
   ]
  }
 ],
 "metadata": {
  "kernelspec": {
   "display_name": "Python 3.9.3 64-bit ('algo3-tp1': venv)",
   "language": "python",
   "name": "python39364bitalgo3tp1venv54ff8ce56bdc45bab5a277cf08d2b074"
  },
  "language_info": {
   "codemirror_mode": {
    "name": "ipython",
    "version": 3
   },
   "file_extension": ".py",
   "mimetype": "text/x-python",
   "name": "python",
   "nbconvert_exporter": "python",
   "pygments_lexer": "ipython3",
   "version": "3.9.3-final"
  }
 },
 "nbformat": 4,
 "nbformat_minor": 5
}